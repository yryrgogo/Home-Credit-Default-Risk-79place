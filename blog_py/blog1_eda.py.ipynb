{
 "cells": [
  {
   "cell_type": "code",
   "execution_count": null,
   "metadata": {
    "collapsed": true
   },
   "outputs": [],
   "source": [
    "import pandas as pd\n",
    "    \n",
    "app_eda = pd.read_csv('../eda/application_eda.csv')\n",
    "bur_eda = pd.read_csv('../eda/bureau_eda.csv')\n",
    "pre_eda = pd.read_csv('../eda/prev_eda.csv')\n",
    "ins_eda = pd.read_csv('../eda/install_eda.csv')\n",
    "ccb_eda = pd.read_csv('../eda/credit_eda.csv')\n",
    "pos_eda = pd.read_csv('../eda/pos_eda.csv')\n",
    "display(app_eda)\n",
    "display(bur_eda)\n",
    "display(pre_eda)\n",
    "display(ins_eda)\n",
    "display(ccb_eda)\n",
    "display(pos_eda)"
   ]
  }
 ],
 "metadata": {
  "kernelspec": {
   "display_name": "Python 3",
   "language": "python",
   "name": "python3"
  },
  "language_info": {
   "codemirror_mode": {
    "name": "ipython",
    "version": 3
   },
   "file_extension": ".py",
   "mimetype": "text/x-python",
   "name": "python",
   "nbconvert_exporter": "python",
   "pygments_lexer": "ipython3",
   "version": "3.6.3"
  }
 },
 "nbformat": 4,
 "nbformat_minor": 2
}
