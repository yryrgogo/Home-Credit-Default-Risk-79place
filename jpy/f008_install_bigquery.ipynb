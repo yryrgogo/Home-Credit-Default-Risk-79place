{
 "cells": [
  {
   "cell_type": "code",
   "execution_count": 6,
   "metadata": {},
   "outputs": [
    {
     "name": "stdout",
     "output_type": "stream",
     "text": [
      "The autoreload extension is already loaded. To reload it, use:\n",
      "  %reload_ext autoreload\n"
     ]
    }
   ],
   "source": [
    "%load_ext autoreload\n",
    "%autoreload 2\n",
    "import gc\n",
    "import numpy as np\n",
    "import pandas as pd\n",
    "import sys\n",
    "import re\n",
    "from glob import glob\n",
    "import os\n",
    "HOME = os.path.expanduser('~')\n",
    "sys.path.append(f\"{HOME}/kaggle/data_analysis/library/\")\n",
    "#  sys.path.append(f\"/mnt/c/Git/go/kaggle/github/library/\")\n",
    "import utils\n",
    "from utils import logger_func\n",
    "try:\n",
    "    if not logger:\n",
    "        logger=logger_func()\n",
    "except NameError:\n",
    "    logger=logger_func()\n",
    "    \n",
    "from tqdm import tqdm\n",
    "import joblib\n",
    "\n",
    "#========================================================================\n",
    "# Global Variable\n",
    "sys.path.append(f\"../py\")\n",
    "from info_home_credit import hcdr_key_cols\n",
    "key, target, ignore_list = hcdr_key_cols()\n",
    "#========================================================================\n",
    "\n",
    "#========================================================================\n",
    "# BigQuery\n",
    "from google.cloud import bigquery\n",
    "bq_client = bigquery.Client.from_service_account_json(f'{HOME}/privacy/horikoshi-ml-a13ef6f2f937.json')\n",
    "#========================================================================"
   ]
  },
  {
   "cell_type": "code",
   "execution_count": 15,
   "metadata": {},
   "outputs": [],
   "source": [
    "# Delete Datset\n",
    "project = 'horikoshi-ml-224313'\n",
    "dataset = 'hori'\n",
    "table = 'tmp'\n",
    "bq_client.delete_table(f'{dataset}.{table}')"
   ]
  },
  {
   "cell_type": "code",
   "execution_count": 19,
   "metadata": {},
   "outputs": [
    {
     "data": {
      "text/plain": [
       "0"
      ]
     },
     "execution_count": 19,
     "metadata": {},
     "output_type": "execute_result"
    }
   ],
   "source": [
    "#========================================================================\n",
    "# Create New Table from Query\n",
    "query = \"\"\"\n",
    "select\n",
    "*\n",
    ",dense_rank() over (partition by SK_ID_CURR order by DAYS_INSTALMENT ) as asc_rank_curr\n",
    ",dense_rank() over (partition by SK_ID_PREV order by DAYS_INSTALMENT ) as asc_rank_prev\n",
    ",dense_rank() over (partition by SK_ID_CURR order by DAYS_INSTALMENT DESC) as desc_rank_curr\n",
    ",dense_rank() over (partition by SK_ID_PREV order by DAYS_INSTALMENT DESC) as desc_rank_prev\n",
    "from hori.installment\n",
    ";\n",
    "\"\"\"\n",
    "\n",
    "project = 'horikoshi-ml-224313'\n",
    "dataset = 'hori'\n",
    "new_table = 'ins_rank'\n",
    "bq_cmd = f\"bq --location=US query --destination_table {project}:{dataset}.{new_table} --use_legacy_sql=false '{query}'\"\n",
    "os.system(bq_cmd)\n",
    "#========================================================================"
   ]
  },
  {
   "cell_type": "code",
   "execution_count": 27,
   "metadata": {},
   "outputs": [
    {
     "name": "stderr",
     "output_type": "stream",
     "text": [
      "100%|██████████| 3/3 [00:00<00:00, 602.98it/s]"
     ]
    },
    {
     "name": "stdout",
     "output_type": "stream",
     "text": [
      "(339587, 36)\n"
     ]
    },
    {
     "name": "stderr",
     "output_type": "stream",
     "text": [
      "\n"
     ]
    },
    {
     "name": "stdout",
     "output_type": "stream",
     "text": [
      "(307511,) | NUM_INSTALMENT_VERSION_sum\n",
      "(307511,) | NUM_INSTALMENT_NUMBER_sum\n",
      "(307511,) | DAYS_ENTRY_PAYMENT_sum\n",
      "(307511,) | DAYS_INSTALMENT_sum\n",
      "(307511,) | AMT_INSTALMENT_sum\n",
      "(307511,) | AMT_PAYMENT_sum\n",
      "(307511,) | DIFF_PAYMENT_sum\n",
      "(307511,) | NUM_INSTALMENT_VERSION_mean\n",
      "(307511,) | NUM_INSTALMENT_NUMBER_mean\n",
      "(307511,) | DAYS_ENTRY_PAYMENT_mean\n",
      "(307511,) | DAYS_INSTALMENT_mean\n",
      "(307511,) | AMT_INSTALMENT_mean\n",
      "(307511,) | AMT_PAYMENT_mean\n",
      "(307511,) | DIFF_PAYMENT_mean\n",
      "(307511,) | NUM_INSTALMENT_VERSION_max\n",
      "(307511,) | NUM_INSTALMENT_NUMBER_max\n",
      "(307511,) | DAYS_ENTRY_PAYMENT_max\n",
      "(307511,) | DAYS_INSTALMENT_max\n",
      "(307511,) | AMT_INSTALMENT_max\n",
      "(307511,) | AMT_PAYMENT_max\n",
      "(307511,) | DIFF_PAYMENT_max\n",
      "(307511,) | NUM_INSTALMENT_VERSION_min\n",
      "(307511,) | NUM_INSTALMENT_NUMBER_min\n",
      "(307511,) | DAYS_ENTRY_PAYMENT_min\n",
      "(307511,) | DAYS_INSTALMENT_min\n",
      "(307511,) | AMT_INSTALMENT_min\n",
      "(307511,) | AMT_PAYMENT_min\n",
      "(307511,) | DIFF_PAYMENT_min\n",
      "(307511,) | NUM_INSTALMENT_VERSION_std\n",
      "(307511,) | NUM_INSTALMENT_NUMBER_std\n",
      "(307511,) | DAYS_ENTRY_PAYMENT_std\n",
      "(307511,) | DAYS_INSTALMENT_std\n",
      "(307511,) | AMT_INSTALMENT_std\n",
      "(307511,) | AMT_PAYMENT_std\n",
      "(307511,) | DIFF_PAYMENT_std\n",
      "(48744,) | NUM_INSTALMENT_VERSION_sum\n",
      "(48744,) | NUM_INSTALMENT_NUMBER_sum\n",
      "(48744,) | DAYS_ENTRY_PAYMENT_sum\n",
      "(48744,) | DAYS_INSTALMENT_sum\n",
      "(48744,) | AMT_INSTALMENT_sum\n",
      "(48744,) | AMT_PAYMENT_sum\n",
      "(48744,) | DIFF_PAYMENT_sum\n",
      "(48744,) | NUM_INSTALMENT_VERSION_mean\n",
      "(48744,) | NUM_INSTALMENT_NUMBER_mean\n",
      "(48744,) | DAYS_ENTRY_PAYMENT_mean\n",
      "(48744,) | DAYS_INSTALMENT_mean\n",
      "(48744,) | AMT_INSTALMENT_mean\n",
      "(48744,) | AMT_PAYMENT_mean\n",
      "(48744,) | DIFF_PAYMENT_mean\n",
      "(48744,) | NUM_INSTALMENT_VERSION_max\n",
      "(48744,) | NUM_INSTALMENT_NUMBER_max\n",
      "(48744,) | DAYS_ENTRY_PAYMENT_max\n",
      "(48744,) | DAYS_INSTALMENT_max\n",
      "(48744,) | AMT_INSTALMENT_max\n",
      "(48744,) | AMT_PAYMENT_max\n",
      "(48744,) | DIFF_PAYMENT_max\n",
      "(48744,) | NUM_INSTALMENT_VERSION_min\n",
      "(48744,) | NUM_INSTALMENT_NUMBER_min\n",
      "(48744,) | DAYS_ENTRY_PAYMENT_min\n",
      "(48744,) | DAYS_INSTALMENT_min\n",
      "(48744,) | AMT_INSTALMENT_min\n",
      "(48744,) | AMT_PAYMENT_min\n",
      "(48744,) | DIFF_PAYMENT_min\n",
      "(48744,) | NUM_INSTALMENT_VERSION_std\n",
      "(48744,) | NUM_INSTALMENT_NUMBER_std\n",
      "(48744,) | DAYS_ENTRY_PAYMENT_std\n",
      "(48744,) | DAYS_INSTALMENT_std\n",
      "(48744,) | AMT_INSTALMENT_std\n",
      "(48744,) | AMT_PAYMENT_std\n",
      "(48744,) | DIFF_PAYMENT_std\n"
     ]
    }
   ],
   "source": [
    "from google.cloud import bigquery\n",
    "\n",
    "def bq_load(query):\n",
    "    bq_client = bigquery.Client.from_service_account_json(f'{HOME}/privacy/horikoshi-ml-a13ef6f2f937.json')\n",
    "    df = bq_client.query(query).to_dataframe()\n",
    "    return df\n",
    "\n",
    "\n",
    "df = bq_load(query)\n",
    "print(df.shape)\n",
    "\n",
    "# prefix = 'f008_big_ins-cur-l3-'\n",
    "# prefix = 'f008_big_ins-pre-f3-'\n",
    "prefix = 'f008_big_ins-pre-l3-'\n",
    "base = utils.read_df_pkl('../input/base0*').set_index(key)\n",
    "df.set_index(key, inplace=True)\n",
    "df = base.join(df)\n",
    "utils.save_feature(df_feat=df, ignore_list=ignore_list, is_train=2, prefix=prefix, target=target)"
   ]
  },
  {
   "cell_type": "code",
   "execution_count": null,
   "metadata": {},
   "outputs": [],
   "source": [
    "exec_date = '20190301'\n",
    "queries = {}\n",
    "query_file_list = glob.glob(\"./sql/{exec_date}*.sql\")\n",
    "for query_file in query_list:\n",
    "    with open(query_file) as f:\n",
    "        query = f.read()\n",
    "    feature_name = utils.get_filename(query, delimiter='sql').replace(f'{exec_date}_', '')\n",
    "    queries[feature_name] = query\n",
    "\n",
    "r = joblib.Parallel(n_jobs=32)(\n",
    "    joblib.delayed(bq_load)(query, feature_name, exec_date)\n",
    "    for feature_name, query in queries.items()\n",
    ")"
   ]
  }
 ],
 "metadata": {
  "kernelspec": {
   "display_name": "Python 3",
   "language": "python",
   "name": "python3"
  },
  "language_info": {
   "codemirror_mode": {
    "name": "ipython",
    "version": 3
   },
   "file_extension": ".py",
   "mimetype": "text/x-python",
   "name": "python",
   "nbconvert_exporter": "python",
   "pygments_lexer": "ipython3",
   "version": "3.6.3"
  }
 },
 "nbformat": 4,
 "nbformat_minor": 2
}
