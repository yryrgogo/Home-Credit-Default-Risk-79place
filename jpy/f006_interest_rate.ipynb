{
 "cells": [
  {
   "cell_type": "code",
   "execution_count": 1,
   "metadata": {},
   "outputs": [],
   "source": [
    "%load_ext autoreload\n",
    "%autoreload 2\n",
    "standard=True\n",
    "standard=False\n",
    "bureau = False\n",
    "#  bureau = True\n",
    "\" Interest_Rate \"\n",
    "import gc\n",
    "import numpy as np\n",
    "import pandas as pd\n",
    "import sys\n",
    "import re\n",
    "from glob import glob\n",
    "import os\n",
    "HOME = os.path.expanduser('~')\n",
    "sys.path.append(f\"{HOME}/kaggle/data_analysis/library/\")\n",
    "#  sys.path.append(f\"/mnt/c/Git/go/kaggle/github/library/\")\n",
    "import utils\n",
    "from utils import logger_func, mkdir_func\n",
    "\n",
    "#========================================================================\n",
    "# Global Variable\n",
    "sys.path.append('../py')\n",
    "from info_home_credit import hcdr_key_cols\n",
    "key, target, ignore_list = hcdr_key_cols()\n",
    "#========================================================================\n",
    "\n",
    "prev_key = 'SK_ID_PREV'\n",
    "acr = 'AMT_CREDIT'\n",
    "aan = 'AMT_ANNUITY'\n",
    "adp = 'AMT_DOWN_PAYMENT'\n",
    "cpy = 'CNT_PAYMENT'\n",
    "co_type = 'NAME_CONTRACT_TYPE'\n",
    "dd = 'DAYS_DECISION'"
   ]
  },
  {
   "cell_type": "code",
   "execution_count": 15,
   "metadata": {},
   "outputs": [
    {
     "name": "stderr",
     "output_type": "stream",
     "text": [
      "100%|██████████| 3/3 [00:00<00:00,  4.08it/s]\n"
     ]
    },
    {
     "name": "stdout",
     "output_type": "stream",
     "text": [
      "(307511,) | ir_pred-mean\n",
      "(307511,) | ir_pred-max\n",
      "(307511,) | ir_pred-min\n",
      "(307511,) | ir_pred-std\n",
      "(48744,) | ir_pred-mean\n",
      "(48744,) | ir_pred-max\n",
      "(48744,) | ir_pred-min\n",
      "(48744,) | ir_pred-std\n"
     ]
    },
    {
     "data": {
      "text/plain": [
       "77"
      ]
     },
     "execution_count": 15,
     "metadata": {},
     "output_type": "execute_result"
    }
   ],
   "source": [
    "========================================================================\n",
    "Previous ApplicationのInterest Rateを計算\n",
    "base = utils.read_df_pkl('../input/base0*').set_index(key)\n",
    "app = utils.read_df_pkl('../input/clean_app*')[[key, target]]\n",
    "df = utils.read_df_pkl('../input/clean_prev*')\n",
    "df = df[[key, prev_key, dd, acr, aan, cpy, adp, co_type]].merge(app, on=key, how='inner')\n",
    "df = df[~df[cpy].isnull()]\n",
    "cpy = 'CNT_PAYMENT'\n",
    "df['Pred_CNT_PAYMENT'] = utils.read_pkl_gzip('../features/other/previous_pred_CNT_PAYMENT_CV2-9225943085922026.gz')\n",
    "df.loc[df[cpy].isnull(), cpy] = df.loc[df[cpy].isnull(), 'Pred_CNT_PAYMENT']\n",
    "\n",
    "for cnt in range(3, 64, 3):\n",
    "    if cnt<=60:\n",
    "        ir = ( (df[aan].values * cnt) / df[acr].values ) - 1.0\n",
    "        df[f'ir_{cnt}'] = ir\n",
    "        df[f'ir_{cnt}'] = df[f'ir_{cnt}'].map(lambda x: x if (0.08<x) and (x<0.5) else np.nan)\n",
    "        print(f\"{cnt} :\", len(df[f'ir_{cnt}'].dropna()))\n",
    "        if len(df[f'ir_{cnt}'].dropna())<len(df)*0.001:\n",
    "            df.drop(f'ir_{cnt}', axis=1, inplace=True)\n",
    "            continue\n",
    "    else:\n",
    "        ir = ( (df[aan].values * df[cpy].values) / df[acr].values ) - 1.0\n",
    "        df[f'ir_pred'] = ir\n",
    "        df[f'ir_pred'] = df[f'ir_pred'].map(lambda x: x if (0.08<=x) and (x<=0.5) else np.nan)\n",
    "        cnt = 'pred'\n",
    "\n",
    "ir_cols = [col for col in df.columns if col.count('ir_')]\n",
    "\n",
    "aggs = {}\n",
    "\n",
    "for col in ir_cols:\n",
    "    aggs[col] = ['mean', 'max', 'min', 'std']\n",
    "\n",
    "df_agg = df[[key]+ir_cols].groupby(key).agg(aggs)\n",
    "new_cols = [f\"{k}-{method}\" for k in aggs.keys() for method in aggs[k]]\n",
    "df_agg.columns = new_cols\n",
    "df_agg = base.join(df_agg)\n",
    "\n",
    "prefix = 'f006_pre_'\n",
    "utils.save_feature(df_feat=df_agg, ignore_list=ignore_list, is_train=2, target=target, prefix=prefix)\n",
    "\n",
    "del df, df_agg\n",
    "gc.collect()"
   ]
  },
  {
   "cell_type": "code",
   "execution_count": 17,
   "metadata": {},
   "outputs": [
    {
     "name": "stderr",
     "output_type": "stream",
     "text": [
      "100%|██████████| 3/3 [00:00<00:00, 10.46it/s]\n"
     ]
    },
    {
     "name": "stdout",
     "output_type": "stream",
     "text": [
      "9 : 595\n",
      "15 : 48506\n",
      "21 : 35775\n",
      "27 : 29346\n",
      "33 : 22074\n",
      "39 : 79744\n",
      "(307511,) | ir_9\n",
      "(307511,) | ir_15\n",
      "(307511,) | ir_21\n",
      "(307511,) | ir_27\n",
      "(307511,) | ir_33\n",
      "(307511,) | ir_39\n",
      "(48744,) | ir_9\n",
      "(48744,) | ir_15\n",
      "(48744,) | ir_21\n",
      "(48744,) | ir_27\n",
      "(48744,) | ir_33\n",
      "(48744,) | ir_39\n"
     ]
    }
   ],
   "source": [
    "# Current Applicationに対するCNT_PAYMENTの予測値\n",
    "trn_cpy = utils.read_pkl_gzip('../features/train_f005_app_App_Pred_CNT_PAYMENT.gz')\n",
    "tes_cpy = utils.read_pkl_gzip('../features/test_f005_app_App_Pred_CNT_PAYMENT.gz')\n",
    "pred_cpy = np.hstack((trn_cpy, tes_cpy))\n",
    "df = utils.read_df_pkl('../input/clean_app*')\n",
    "df[cpy] = pred_cpy\n",
    "\n",
    "#========================================================================\n",
    "# Current ApplicationのInterest Rateを計算\n",
    "# 金利が何回分の支払いに対して発生しているか不明なので、3回刻みで一通り作る\n",
    "for cnt in range(9, 40, 3):\n",
    "#  for cnt in range(27, 46, 3):\n",
    "    if cnt%6!=3 and cnt%12!=-3:\n",
    "        continue\n",
    "    if cnt<=60:\n",
    "    #  if cnt<=45:\n",
    "        ir = ( (df[aan].values * cnt) / df[acr].values ) - 1.0\n",
    "        df[f'ir_{cnt}'] = ir\n",
    "        #  if cnt==9 or cnt==15 or cnt==21 or cnt==27 or cnt==33:\n",
    "        if cnt==6:\n",
    "            pass\n",
    "        #  elif np.abs(cnt%12)==3:\n",
    "        #  elif cnt%6==3 or cnt%12==-3:\n",
    "        #      df[f'ir_{cnt}'] = df[f'ir_{cnt}'].map(lambda x: x if (0.08<=x) and (x<=0.25) else np.nan)\n",
    "        elif cnt==21:\n",
    "            df[f'ir_{cnt}'] = df[f'ir_{cnt}'].map(lambda x: x if (0.08<=x) and (x<=0.23) else np.nan)\n",
    "        elif cnt==27:\n",
    "            df[f'ir_{cnt}'] = df[f'ir_{cnt}'].map(lambda x: x if (0.08<=x) and (x<=0.23) else np.nan)\n",
    "        elif cnt==33:\n",
    "            df[f'ir_{cnt}'] = df[f'ir_{cnt}'].map(lambda x: x if (0.08<=x) and (x<=0.23) else np.nan)\n",
    "        else:\n",
    "            df[f'ir_{cnt}'] = df[f'ir_{cnt}'].map(lambda x: x if (0.08<=x) and (x<=0.5) else np.nan)\n",
    "        print(f\"{cnt} :\", len(df[f'ir_{cnt}'].dropna()))\n",
    "        if len(df[f'ir_{cnt}'].dropna())<len(df)*0.001:\n",
    "            df.drop(f'ir_{cnt}', axis=1, inplace=True)\n",
    "            continue\n",
    "    else:\n",
    "        ir = ( (df[aan].values * df[cpy].values) / df[acr].values ) - 1.0\n",
    "        df[f'ir_pred'] = ir\n",
    "        df[f'ir_pred'] = df[f'ir_pred'].map(lambda x: x if (0.08<=x) and (x<=0.5) else np.nan)\n",
    "        cnt = 'pred'\n",
    "\n",
    "ir_cols = [col for col in df.columns if col.count('ir_')]\n",
    "df.set_index(key, inplace=True)\n",
    "df = base.join(df[ir_cols])\n",
    "\n",
    "prefix = 'f006_app_'\n",
    "utils.save_feature(df_feat=df, ignore_list=ignore_list, is_train=2, target=target, prefix=prefix)"
   ]
  },
  {
   "cell_type": "code",
   "execution_count": null,
   "metadata": {},
   "outputs": [],
   "source": []
  }
 ],
 "metadata": {
  "kernelspec": {
   "display_name": "Python 3",
   "language": "python",
   "name": "python3"
  },
  "language_info": {
   "codemirror_mode": {
    "name": "ipython",
    "version": 3
   },
   "file_extension": ".py",
   "mimetype": "text/x-python",
   "name": "python",
   "nbconvert_exporter": "python",
   "pygments_lexer": "ipython3",
   "version": "3.6.3"
  }
 },
 "nbformat": 4,
 "nbformat_minor": 2
}
